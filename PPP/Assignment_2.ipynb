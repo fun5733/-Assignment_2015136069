{
 "cells": [
  {
   "cell_type": "markdown",
   "metadata": {},
   "source": [
    " ### 과제 2"
   ]
  },
  {
   "cell_type": "markdown",
   "metadata": {},
   "source": [
    " #### 다음 6 개의 Expression에 대해 Evaluation 결과 값을 출력하고, 해당 결과가 나온 이유에 대해 설명하시오.\n",
    "   * 1 and 2 and 3 and 4\n",
    "   * 1 or 2 or 3 or 4\n",
    "   * 1 and 2 or 3 and 4\n",
    "   * (1 and 2) or (3 and 4)\n",
    "   * 1 or 2 and 3 or 4\n",
    "   * (1 or 2) and (3 or 4)"
   ]
  },
  {
   "cell_type": "code",
   "execution_count": 18,
   "metadata": {},
   "outputs": [
    {
     "name": "stdout",
     "output_type": "stream",
     "text": [
      "4\n"
     ]
    }
   ],
   "source": [
    "print(1 and 2 and 3 and 4)"
   ]
  },
  {
   "cell_type": "markdown",
   "metadata": {},
   "source": [
    " 모두 참인 연산이기 때문에 논리 연산을 따라 최종적으로 평가되어진 값이 반환되어서 마지막에 오는 4가 반환된다."
   ]
  },
  {
   "cell_type": "code",
   "execution_count": 17,
   "metadata": {},
   "outputs": [
    {
     "name": "stdout",
     "output_type": "stream",
     "text": [
      "1\n"
     ]
    }
   ],
   "source": [
    "print(1 or 2 or 3 or 4)"
   ]
  },
  {
   "cell_type": "markdown",
   "metadata": {},
   "source": [
    " 모두 or연산인데 처음에 1이 오므로 다음 값을 받을 필요가 없이 바로 1을 반환한다."
   ]
  },
  {
   "cell_type": "code",
   "execution_count": 32,
   "metadata": {},
   "outputs": [
    {
     "name": "stdout",
     "output_type": "stream",
     "text": [
      "2\n"
     ]
    }
   ],
   "source": [
    "print(1 and 2 or 3 and 4)"
   ]
  },
  {
   "cell_type": "markdown",
   "metadata": {},
   "source": [
    " and 연산을 or 연산보다 먼저 실행하므로 결국 (1 and 2) or (3 and 4) 과 같은 실행 순서가 되고, 이 경우 마지막이 or 연산이므로 먼저 1 and 2 를 실행하면서 참이 되었기 때문에 다음 값을 받을 필요 없이 바로 2를 반환한다."
   ]
  },
  {
   "cell_type": "code",
   "execution_count": 33,
   "metadata": {},
   "outputs": [
    {
     "name": "stdout",
     "output_type": "stream",
     "text": [
      "2\n"
     ]
    }
   ],
   "source": [
    "print((1 and 2) or (3 and 4))"
   ]
  },
  {
   "cell_type": "markdown",
   "metadata": {},
   "source": [
    " 위와 같은 순서이므로 동일한 실행 결과가 나온다."
   ]
  },
  {
   "cell_type": "code",
   "execution_count": 34,
   "metadata": {},
   "outputs": [
    {
     "name": "stdout",
     "output_type": "stream",
     "text": [
      "1\n"
     ]
    }
   ],
   "source": [
    "print(1 or 2 and 3 or 4)"
   ]
  },
  {
   "cell_type": "markdown",
   "metadata": {},
   "source": [
    " and 연산을 or연산보다 먼저 실행하므로 1 or (2 and 3) or 4 와 같은 실행 순서가 되고, 이 경우 and 연산 결과가 3이고 1 or 3을 실행함에 있어 결과는 1이 나오는데 마지막 연산이 or 연산이므로 다음 값을 받을 필요 없이 1이 반환한다."
   ]
  },
  {
   "cell_type": "code",
   "execution_count": 35,
   "metadata": {},
   "outputs": [
    {
     "name": "stdout",
     "output_type": "stream",
     "text": [
      "3\n"
     ]
    }
   ],
   "source": [
    "print((1 or 2) and (3 or 4))"
   ]
  },
  {
   "cell_type": "markdown",
   "metadata": {},
   "source": [
    " 괄호 안의 연산을 먼저 실행하면 마지막에 1 and 3 연산을 하게되고 and 연산이므로 마지막 값인 3을 반환한다."
   ]
  },
  {
   "cell_type": "markdown",
   "metadata": {},
   "source": [
    " #### 경로에 해당하는 문자열 1개를 입력 받아 그 안에 디렉토리 경로명과 파일명을 분리하여 리스트로 반환하는 함수 div_path(s)를 작성하시오. \n",
    " *  인자로 전달하는 문자열은 경로만 들어간다고 가정한다.\n",
    " *  각 디렉토리와 파일을 구분하는 문자는 '/'로 가정한다.\n",
    " *  반환하는 리스트의 첫번째 원소는 디렉토리이고 두번째 원소는 파일명이다.\n",
    " *  다음과 같은 실행 및 출력 결과가 도출되어야 한다.\n",
    "  *  div_path('/usr/local/bin/python')\n",
    "     *  ['/usr/local/bin', 'python']\n",
    "  *  div_path('/home/chulsoo/test.txt')\n",
    "     *  ['/home/chulsoo', 'test.txt']\n",
    " *  [참고] 리스트(l) 내에 새로운 정수값 (예를 들어 10)을 넣는 방법은 l.append(10) 이다."
   ]
  },
  {
   "cell_type": "code",
   "execution_count": 5,
   "metadata": {},
   "outputs": [
    {
     "name": "stdout",
     "output_type": "stream",
     "text": [
      "['/usr/local/bin', 'python']\n"
     ]
    }
   ],
   "source": [
    "def div_path(s):\n",
    "    a = s.split('/')\n",
    "    b = list(range(2))\n",
    "    b[1] = ''.join(a[-1:])\n",
    "    b[0] = '/'.join(a[0:-1]) \n",
    "    return b\n",
    "\n",
    "print(div_path('/usr/local/bin/python'))"
   ]
  },
  {
   "cell_type": "markdown",
   "metadata": {},
   "source": [
    " #### 두 개의 리스트를 인자로 받아서 그 두 개의 리스트에 대한 '합집합'을 반환하는 함수 list_union(lista, listb)를 작성하시오.\n",
    "   * 인자로 전달하는 리스트 2 개에는 정수값만 들어간다고 가정하자.\n",
    "   * 함수 내에서 새로운 리스트를 만들어 그 리스트 내에 인자로 받은 두 리스트의 모든 원소를 넣어 반환한다.\n",
    "   * 반환하는 리스트에는 절대로 중복된 원소가 들어 있으면 안된다 (집합의 조건).\n",
    "   * 반환하는 리스트는 정렬이 되어 있어야 한다.\n",
    "   * 다음과 같은 실행 및 출력 결과가 도출되어야 한다.\n",
    "     * list_union([1, 2, 3], [1, 2, 4])\n",
    "        * [1, 2, 3, 4]\n",
    "     * list_union([-10, -5, 0, -1], [100, 9, 0, 9])\n",
    "        * [-10, -5, -1, 0, 9, 100]\n",
    "     * list_union([0, 1, 2], [0, 1, 2])\n",
    "        * [0, 1, 2]\n",
    "   * [참고] 리스트(l) 내에 새로운 정수값 (예를 들어 10)을 넣는 방법은 l.append(10) 이다.\n",
    "   * [참고] 임의의 정수값 (x)이 리스트 (l) 내에 존재하는지 판단하는 방법은 x in l 이다."
   ]
  },
  {
   "cell_type": "code",
   "execution_count": 33,
   "metadata": {},
   "outputs": [
    {
     "name": "stdout",
     "output_type": "stream",
     "text": [
      "[1, 2, 3, 4]\n",
      "[-10, -5, -1, 0, 9, 100]\n",
      "[0, 1, 2]\n"
     ]
    }
   ],
   "source": [
    "\n",
    "def list_union(lista, listb):\n",
    "    listc = lista + listb\n",
    "    listc.sort()\n",
    "    temp = listc[0]\n",
    "    i = 1\n",
    "    while i<len(listc):\n",
    "        if temp == listc[i]:\n",
    "            listc.pop(i)\n",
    "        else:\n",
    "            temp = listc[i]\n",
    "            i = i+1\n",
    "    return listc\n",
    "print(list_union([1, 2, 3], [1, 2, 4]))\n",
    "print(list_union([-10, -5, 0, -1], [100, 9, 0, 9]))\n",
    "print(list_union([0, 1, 2], [0, 1, 2]))"
   ]
  },
  {
   "cell_type": "markdown",
   "metadata": {},
   "source": [
    "#### [ACM-ICPC 문제 1110번]\n",
    " * 더하기 사이클"
   ]
  },
  {
   "cell_type": "code",
   "execution_count": 3,
   "metadata": {},
   "outputs": [
    {
     "name": "stdout",
     "output_type": "stream",
     "text": [
      "99\n",
      "60\n"
     ]
    }
   ],
   "source": [
    "\n",
    "n = int(input())\n",
    "res = 0\n",
    "ntemp = n\n",
    "temp = 0\n",
    "count = 0\n",
    "while 1>0:\n",
    "    count = count + 1\n",
    "    if n<10 :\n",
    "        res = 10*n + n\n",
    "\n",
    "    else :\n",
    "        temp = int(n/10) + n%10\n",
    "        if temp<10 :\n",
    "            res = 10*(n%10) + temp\n",
    "        else :\n",
    "            res = 10*(n%10) + temp%10\n",
    "    if res == ntemp:\n",
    "        break\n",
    "    n = res\n",
    "    \n",
    "print(count)"
   ]
  },
  {
   "cell_type": "code",
   "execution_count": null,
   "metadata": {
    "collapsed": true
   },
   "outputs": [],
   "source": []
  },
  {
   "cell_type": "markdown",
   "metadata": {
    "collapsed": true
   },
   "source": [
    " #### [Incremental Project] 웹 URL로 지정된 웹페이지를 문자열로 가져와 1) 모든 HTML 태그를 제외한 순수 텍스트 문자열만을 걸러내고, 2) 그 순수 텍스트 문자열 안에 존재하는 단어가 총 몇개인지 출력하는 프로그램을 작성하시오.\n",
    "\n"
   ]
  },
  {
   "cell_type": "code",
   "execution_count": 1,
   "metadata": {},
   "outputs": [
    {
     "name": "stdout",
     "output_type": "stream",
     "text": [
      "509\n",
      "['컴퓨터공학부', 'var', 'current_url', '=', '\"https://cse.koreatech.ac.kr/\";', 'var', 'request_uri', '=', '\"https://cse.koreatech.ac.kr/\";', 'var', 'current_mid', '=', '\"home_2015\";', 'var', 'waiting_message', '=', '\"서버에', '요청', '중입니다.', '잠시만', '기다려주세요.\";', 'var', 'ssl_actions', '=', 'new', 'Array();', 'var', 'default_url', '=', '\"https://cse.koreatech.ac.kr/\";', 'var', 'http_port', '=', '80;var', 'https_port', '=', '443;var', 'enforce_ssl', '=', 'true;', '//', 'Schoolfun', '-', 'Study', 'and', 'Fun', '로그인', '로그인', '아이디', '비밀번호', '로그인', '유지', '브라우저를', '닫더라도', '로그인이', '계속', '유지될', '수', '있습니다.', '로그인', '유지', '기능을', '사용할', '경우', '다음', '접속부터는', '로그인할', '필요가', '없습니다.', '단,', '게임방,', '학교', '등', '공공장소에서', '이용', '시', '개인정보가', '유출될', '수', '있으니', '꼭', '로그아웃을', '해주세요.', '회원가입', 'ID/PW', '찾기', 'IT', '교육의', '글로벌', '메카!한국기술교육대학교', '컴퓨터공학부', 'Close', '소개', '구성원소개', '학사안내', '입학', '학부', '대학원', '학부광장', '자료실', '대학원', '공학교육인증', '학부서비스', 'Registration', '컴퓨터공학부', 'School', 'of', 'Computer', 'Science', 'and', 'Engineering', 'IT', '융합소프트웨어', '인력양성사업', 'CK', '(Creative', 'Korea)-I', '교육역량강화사업', '온라인', '컨텐츠', 'Online', 'Contents', 'for', 'Education', 'Capability', 'Empowerment', 'IT', '교육의', '글로벌', '메카', '한국기술교육대학교', '컴퓨터공학부', '홈페이지에', '오신', '것을환영합니다!', 'IT', '융합소프트웨어', '인력양성사업', '글로벌', '수준의', 'IT전문인력', '양성', 'IT융합분야에', '대한', '국제적인', '경쟁력', '고취', '바로가기', '교육역량강화사업', '컨텐츠', '교육역량강화사업', '온라인', '컨텐츠를', '소개합니다.', '바로가기', '공지사항', '&amp;quot;찾아가는', '기술교육학교&amp;quot;', '프로그램...', '2017-10-30', '15:33', '15:33', '정전에', '따른', '홈페이지', '서비스', '중지', '안내', '2017-10-30', '11:53', '11:53', '[특성화]', '2017', 'IT융합', '아이디어', '경진대회', '학생', '모집', '공...', '2017-10-27', '15:36', '15:36', '[특성화]', 'G-STAR', '2017', '전시회', '선발', '학생', '공고', '2017-10-25', '19:24', '19:24', '[특성화]', '[신청마감]', 'G-STAR', '2017', '전시회', '학생', '모집', '공고', '2017-10-19', '14:46', '14:46', '자유게시판', '2017', '홈커밍데이', '2017-10-26', '00:43', '00:43', '[졸업사진촬영자', '필독!]', '졸업앨범', '증명사진', '원본파일', '안내', '2017-10-23', '01:29', '01:29', '간식이벤트', '공지입니다^^', '2017-10-22', '20:04', '20:04', 'PaaS', '&amp;amp;', 'IaaS', '오라클데이', '개최(천안)', '-', '아젠다', '...', '2017-10-19', '08:58', '08:58', '제6회', '레몬', '정보보호', '세미나', '개최', '2017-10-06', '23:40', '23:40', '취업게시판', '[IT', 'Startup]', '마이모', '-', 'C#,', 'Web', '개발자', '정규직', '채용(채...', '2017-10-30', '17:13', '17:13', '[화성]', '(주)유진테크', 'SW', '개발', '정규직', '채용(~11.3)', '2017-10-27', '08:43', '08:43', '(주)엑시콘', '산학공동연구소', '연구원', '모집', '~11/3(금)', '2017-10-26', '13:27', '13:27', '[평택]', '애디언트오토모티브인테리어코리아_IT팀', '신입사...', '2017-10-19', '08:45', '08:45', '[천안]', '(주)ABB코리아', '채용', '공고문', '-', '로봇사업부', '채용(...', '2017-09-29', '11:29', '11:29', 'Platum', '[인터뷰]', '통쾌함과', '불편함을', '오가며', '대중의', '마음을', '사...', '2017-10-30', '08:01', '08:01', '11월', '첫째주', '스타트업', '이벤트(1030~1105)', '2017-10-30', '07:59', '07:59', '[세계', '녹색', '기업을', '찾아서', '#1]', '베를린에서', '만난', '‘작은', '...', '2017-10-30', '07:30', '07:30', '배달의민족,', '네이버로부터', '350억원', '투자', '유치', '…', 'AI', '스...', '2017-10-29', '18:20', '18:20', '김봉진', '우아한형제들', '대표,', '개인', '지분', '정리해', '100억', '사...', '2017-10-27', '11:01', '11:01', '전자신문', '[이브와', 'ICT', '멘토링]&lt;상&gt;여성IT인재', '양성', '요람', '2017-10-30', '17:00', '17:00', '[미래기업포커스]닷밀,', '\"혼합현실(MR)', '테마파크', '...', '2017-10-30', '17:00', '17:00', '이통사', '“애플워치3', 'LTE', '출시', '안', '한다”····통신품...', '2017-10-30', '17:00', '17:00', '휴대폰유통協,', '뿔나다···애플코리아', '대표에', \"'항의'\", '2017-10-30', '17:00', '17:00', '[국감기획]방문판매,', '할부수수료', '등', '국감이슈로', '부상', '2017-10-30', '15:45', '15:45', 'TechCrunch', 'iPhone', '8', 'launch', 'propels', 'Apple', 'to', 'growth', 'in', 'Chi...', '2017-10-30', '19:19', '19:19', 'Cult', 'game', 'Football', 'Manager', '2018', 'is', 'adding', 'supp...', '2017-10-30', '17:26', '17:26', 'Cardlytics', 'filed', 'for', 'marketing', 'analytics', 'IPO', '2017-10-30', '16:45', '16:45', 'The', 'new', 'Japan', 'Taxi', 'from', 'Toyota', 'wants', 'to', 'be', 'an', '...', '2017-10-30', '12:48', '12:48', 'The', 'Toyota', 'TJ', 'Cruiser', 'concept', 'is', 'a', 'fun-filled', '...', '2017-10-30', '09:02', '09:02', 'Back', 'to', 'Top', 'Leading', 'Together', 'for', 'Brighter', 'Future', 'Quick', 'Navigation', '한국기술교육대학교', '홈페이지', '한국기술교육대학교', 'WEBMAIL', '한국기술교육대학교', '온라인', '평생교육원', 'IT', '융합소프트웨어', '인력양성사업', '컴퓨터공학부', '교직원', '업무', '자료실', '컴퓨터공학부', '포트폴리오', 'Campus', 'Location', 'Contact', 'CSE', '충청남도', '천안시', '동남구', '병천면', '충절로', '1600한국기술교육대학교', '컴퓨터공학부', '학과사무실', 'TEL', '(041)', '560', '1460', '~', '1461', 'FAX', '(041)', '560', '1462', 'Facebook', 'Twitter', 'Google', 'Plus', 'Linkedin', '(31253)', '충청남도', '천안시', '동남구', '병천면', '충절로', '1600', '(가전리,', '한국기술교육대학교)', '컴퓨터공학부', 'Copyright', '©', '2015.', 'All', 'rights', 'reserved', '796797798799800801']\n"
     ]
    }
   ],
   "source": [
    "from urllib import request \n",
    " \n",
    "url = 'http://cse.koreatech.ac.kr'\n",
    "f = request.urlopen(url)\n",
    "source_bytes = f.read()\n",
    "source = source_bytes.decode('utf-8')\n",
    "re = source.split('<')\n",
    "i = 0\n",
    "st = ''\n",
    "count = 0\n",
    "s2 = list(range(len(re)))\n",
    "s3 = list(range(len(re)))\n",
    "for x in re[1:]:\n",
    "    if '>' not in x:\n",
    "        re.remove(x)\n",
    "for x in re[1:]:\n",
    "    s = x.split('>')\n",
    "    s.reverse()\n",
    "    s3[i] = s[0]\n",
    "    i = i+1\n",
    "for x in s3:\n",
    "    st = st+str(x)\n",
    "st1 = st.split()\n",
    "for x in st1:\n",
    "    count = count+1\n",
    "print(count)\n",
    "print(st1)"
   ]
  },
  {
   "cell_type": "markdown",
   "metadata": {
    "collapsed": true
   },
   "source": [
    " 이번 과제는 리스트를 더욱 활용해서 풀어야 하는 문제가 많았다. 무슨 코드를 작성하던 많이 쓰이고, 이용할 수 있는 편리한 메소드가 다양하게 있어서 쓰임새가 많은 것 같다. 또, 저번 과제에서는 제대로 사용하지 않았던 함수를 만들기도 했다.\n",
    " 문제 중 더하기 사이클에서 좀 애를 먹었는데 정수로 바로 처리하기 보다 입력받은 값을 문자열로 처리하면 더 편했을 것 같다.\n",
    " 마지막 문제는 완전히 감이 안 잡혔지만 천천히 배운 내용을 복습하면서 써먹을 수 있는 부분을 찾아서 코드를 작성해가니 해결할 수 있었다. \n",
    " 파이썬이 처음에는 간단하기만 언어인 줄 알았지만 점점 배우는게 어려워지면서 쓰기에 따라서 복잡한 코드를 작성하는 데도 잘 맞는 것 같다."
   ]
  },
  {
   "cell_type": "code",
   "execution_count": null,
   "metadata": {
    "collapsed": true
   },
   "outputs": [],
   "source": []
  }
 ],
 "metadata": {
  "kernelspec": {
   "display_name": "Python 3",
   "language": "python",
   "name": "python3"
  },
  "language_info": {
   "codemirror_mode": {
    "name": "ipython",
    "version": 3
   },
   "file_extension": ".py",
   "mimetype": "text/x-python",
   "name": "python",
   "nbconvert_exporter": "python",
   "pygments_lexer": "ipython3",
   "version": "3.6.1"
  }
 },
 "nbformat": 4,
 "nbformat_minor": 2
}
